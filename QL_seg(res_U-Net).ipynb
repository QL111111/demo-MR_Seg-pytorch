{
 "cells": [
  {
   "cell_type": "markdown",
   "metadata": {},
   "source": [
    "# 方式分割脑图像\n",
    "\n",
    "## 一、加载数据"
   ]
  },
  {
   "cell_type": "markdown",
   "metadata": {},
   "source": [
    "先导入需要的包"
   ]
  },
  {
   "cell_type": "code",
   "execution_count": 1,
   "metadata": {},
   "outputs": [],
   "source": [
    "# 导入需要的包\n",
    "import os\n",
    "os.environ[\"CUDA_DEVICE_ORDER\"] = \"PCI_BUS_ID\"\n",
    "#os.environ[\"CUDA_VISIBLE_DEVICES\"] = \"1\"\n",
    "import torch\n",
    "import numpy as np\n",
    "from torch.autograd import Variable\n",
    "import torch.nn as nn\n",
    "from torch import nn\n",
    "import torch.nn.functional as F\n",
    "from torch.utils.data import Dataset, DataLoader\n",
    "from PIL import Image,ImageOps\n",
    "from mxtorch import transforms as tfs\n",
    "from datetime import datetime\n",
    "import random\n",
    "\n",
    "import matplotlib.pyplot as plt\n",
    "%matplotlib inline"
   ]
  },
  {
   "cell_type": "markdown",
   "metadata": {},
   "source": [
    "----"
   ]
  },
  {
   "cell_type": "markdown",
   "metadata": {},
   "source": [
    "定义一个函数进行图片的读入，先设置好数据集的路径，并不执行\n",
    "\n",
    "根据 `train.txt` 和 `val.txt` 中的文件名进行图片读入，之后根据图片名称生成 batch 的时候再读入图片"
   ]
  },
  {
   "cell_type": "code",
   "execution_count": 2,
   "metadata": {},
   "outputs": [],
   "source": [
    "M_root = './M'#数据根目录\n",
    "\n",
    "def read_images(root=M_root, train=True):\n",
    "    txt_fname = root + '/sets/' + ('train.txt' if train else 'val.txt')\n",
    "    with open(txt_fname, 'r') as f:\n",
    "        images = f.read().split()\n",
    "    data = [os.path.join(root, 'images', i+'.bmp') for i in images]\n",
    "    label = [os.path.join(root, 'class', i+'.bmp') for i in images]\n",
    "    return data, label"
   ]
  },
  {
   "cell_type": "markdown",
   "metadata": {},
   "source": [
    "随机crop图片，数据增强，从一张图片中 crop 出固定大小的区域，然后在 label 上也做同样方式的crop\n",
    "\n",
    "\n",
    "定义一个随机crop函数，不仅输出 crop 出来的区域，同时还要输出对应的坐标，便于在 label 上做相同的 crop"
   ]
  },
  {
   "cell_type": "markdown",
   "metadata": {},
   "source": [
    "---\n",
    "# 随机旋转new"
   ]
  },
  {
   "cell_type": "code",
   "execution_count": 3,
   "metadata": {},
   "outputs": [],
   "source": [
    "def randomRotation(data, label, degree,mode=Image.BICUBIC):\n",
    "  \n",
    "        \"\"\"\n",
    "         对图像进行随机任意角度(0~360度)旋转\n",
    "        :param mode 邻近插值,双线性插值,双三次B样条插值(default)\n",
    "        :param image PIL的图像image\n",
    "        :return: 旋转转之后的图像\n",
    "        \"\"\"\n",
    "        random_angle = np.random.randint(1, degree)\n",
    "        return data.rotate(random_angle, mode) , label.rotate(random_angle, Image.NEAREST)"
   ]
  },
  {
   "cell_type": "markdown",
   "metadata": {},
   "source": [
    "# 随机剪裁图片"
   ]
  },
  {
   "cell_type": "code",
   "execution_count": 4,
   "metadata": {},
   "outputs": [],
   "source": [
    "def random_crop(data, label, crop_size):\n",
    "    height, width = crop_size\n",
    "    data, rect = tfs.RandomCrop((height, width))(data)\n",
    "    label = tfs.FixedCrop(*rect)(label)\n",
    "    return data, label"
   ]
  },
  {
   "cell_type": "markdown",
   "metadata": {},
   "source": [
    "----\n",
    "脑图像中有4种类别，将每种类别与其相应的 RGB 值对应上"
   ]
  },
  {
   "cell_type": "code",
   "execution_count": 5,
   "metadata": {},
   "outputs": [
    {
     "data": {
      "text/plain": [
       "(4, 4)"
      ]
     },
     "execution_count": 5,
     "metadata": {},
     "output_type": "execute_result"
    }
   ],
   "source": [
    "classes = ['background','CSF','GM','WM']\n",
    "\n",
    "# RGB color for each class\n",
    "colormap = [[0,0,0],[85,85,85],[170,170,170], [255,255,255]]\n",
    "\n",
    "len(classes), len(colormap)"
   ]
  },
  {
   "cell_type": "markdown",
   "metadata": {},
   "source": [
    "接着建立一个索引，将一个类别的 RGB 值对应到一个整数上\n",
    "\n",
    "通过这种一一对应的关系，将 label 图片变成一个矩阵，矩阵和原图片一样大，但是只有一个通道数，也就是 (h, w) 这种大小，里面的每个数值代表着像素的类别"
   ]
  },
  {
   "cell_type": "code",
   "execution_count": 6,
   "metadata": {},
   "outputs": [],
   "source": [
    "cm2lbl = np.zeros(256**3) # 每个像素点有 0 ~ 255 的选择，RGB 三个通道\n",
    "for i,cm in enumerate(colormap):\n",
    "    cm2lbl[(cm[0]*256+cm[1])*256+cm[2]] = i # 建立索引\n",
    "\n",
    "def image2label(img):\n",
    "    data = np.array(img, dtype='int32')\n",
    "    idx = (data[:, :, 0] * 256 + data[:, :, 1]) * 256 + data[:, :, 2]\n",
    "    return np.array(cm2lbl[idx], dtype='int64') # 根据索引得到 label 矩阵"
   ]
  },
  {
   "cell_type": "markdown",
   "metadata": {},
   "source": [
    "接着定义数据预处理方式，之前读取的数据只有文件名，现在开始做预处理\n",
    "\n",
    "首先随机 crop 出固定大小的区域，然后使用 ImageNet 的均值和方差做标准化"
   ]
  },
  {
   "cell_type": "code",
   "execution_count": 7,
   "metadata": {},
   "outputs": [],
   "source": [
    "def img_transforms(img,label, crop_size,degree):#,center_crop_size\n",
    "    \n",
    "    #img, label = random_horizontally_flip()(img, label)\n",
    "    img, label = randomRotation(img, label,degree)\n",
    "    #img, label = center_crop(img, label, center_crop_size)\n",
    "    img, label = random_crop(img, label, crop_size)\n",
    "    \n",
    "    img_tfs = tfs.Compose([\n",
    "        tfs.ToTensor(),\n",
    "        tfs.Normalize([0.485, 0.456, 0.406], [0.229, 0.224, 0.225])\n",
    "    ])\n",
    "\n",
    "    img = img_tfs(img)\n",
    "    label = image2label(label)\n",
    "    label = torch.from_numpy(label)\n",
    "    return img, label"
   ]
  },
  {
   "cell_type": "markdown",
   "metadata": {},
   "source": [
    "最后，定义一个 MRSegDataset 继承于 `torch.utils.data.Dataset` 构成我们自定的训练集"
   ]
  },
  {
   "cell_type": "code",
   "execution_count": 8,
   "metadata": {},
   "outputs": [],
   "source": [
    "class MRSegDataset(Dataset):\n",
    "    '''\n",
    "    mr dataset\n",
    "    '''\n",
    "    def __init__(self, train,crop_size,degree,transforms):# center_crop_size,\n",
    "        #self.center_crop_size = center_crop_size\n",
    "        self.crop_size = crop_size\n",
    "        self.degree = degree\n",
    "        self.transforms = transforms\n",
    "        data_list, label_list = read_images(train=train)\n",
    "        self.data_list = self._filter(data_list)\n",
    "        self.label_list = self._filter(label_list)\n",
    "        print('Read ' + str(len(self.data_list)) + ' images')\n",
    "        \n",
    "    def _filter(self, images): # 过滤掉图片大小小于 crop 大小的图片\n",
    "        return [im for im in images if (Image.open(im).size[1] >= self.crop_size[0] and \n",
    "                                        Image.open(im).size[0] >= self.crop_size[1])]\n",
    "        \n",
    "    def __getitem__(self, idx):\n",
    "        img = self.data_list[idx]\n",
    "        label = self.label_list[idx]\n",
    "        img = Image.open(img)\n",
    "        label = Image.open(label).convert('RGB')\n",
    "        img, label = self.transforms(img, label,self.crop_size, self.degree)# self.center_crop_size, \n",
    "        return img, label\n",
    "    \n",
    "    def __len__(self):\n",
    "        return len(self.data_list)"
   ]
  },
  {
   "cell_type": "code",
   "execution_count": 9,
   "metadata": {},
   "outputs": [
    {
     "name": "stdout",
     "output_type": "stream",
     "text": [
      "Read 256 images\n",
      "Read 48 images\n"
     ]
    }
   ],
   "source": [
    "# 实例化数据集\n",
    "#center_crop_size = 270\n",
    "crop_size = (200,200)\n",
    "traindegree = 180\n",
    "input_shape = (384, 384)\n",
    "testdegree = 2\n",
    "\n",
    "mr_train = MRSegDataset(True, crop_size, traindegree,img_transforms)\n",
    "mr_test = MRSegDataset(False, input_shape,testdegree, img_transforms)\n",
    "\n",
    "train_data = DataLoader(mr_train, 8, shuffle=True, num_workers=2)\n",
    "valid_data = DataLoader(mr_test, 8, num_workers=1)"
   ]
  },
  {
   "cell_type": "markdown",
   "metadata": {},
   "source": [
    "## 二、构造模型\n",
    "\n",
    "U-Net"
   ]
  },
  {
   "cell_type": "markdown",
   "metadata": {},
   "source": [
    "定义几个U-Net中的下采样模块"
   ]
  },
  {
   "cell_type": "code",
   "execution_count": 10,
   "metadata": {},
   "outputs": [],
   "source": [
    "def conv3x3(in_channel, out_channel, stride=1):\n",
    "    return nn.Conv2d(in_channel, out_channel, 3, stride=stride, padding=1, bias=False)"
   ]
  },
  {
   "cell_type": "code",
   "execution_count": 11,
   "metadata": {},
   "outputs": [],
   "source": [
    "class residual_block(nn.Module):\n",
    "    def __init__(self, in_channel, out_channel, same_shape=True):\n",
    "        super(residual_block, self).__init__()\n",
    "        self.same_shape = same_shape\n",
    "        stride=1 if self.same_shape else 2\n",
    "        \n",
    "        self.conv1 = conv3x3(in_channel, out_channel, stride=stride)\n",
    "        self.bn1 = nn.BatchNorm2d(out_channel)\n",
    "        \n",
    "        self.conv2 = conv3x3(out_channel, out_channel)\n",
    "        self.bn2 = nn.BatchNorm2d(out_channel)\n",
    "        if not self.same_shape:\n",
    "            self.conv3 = nn.Conv2d(in_channel, out_channel, 1, stride=stride)\n",
    "        \n",
    "    def forward(self, x):\n",
    "        out = self.conv1(x)\n",
    "        out = F.relu(self.bn1(out), True)\n",
    "        out = self.conv2(out)\n",
    "        out = F.relu(self.bn2(out), True)\n",
    "        \n",
    "        if not self.same_shape:\n",
    "            x = self.conv3(x)\n",
    "        return F.relu(x+out, True)"
   ]
  },
  {
   "cell_type": "markdown",
   "metadata": {},
   "source": [
    "定义U-Net中的上采样块"
   ]
  },
  {
   "cell_type": "code",
   "execution_count": 12,
   "metadata": {},
   "outputs": [],
   "source": [
    "class UNetEnc(nn.Module):\n",
    "\n",
    "    def __init__(self, in_channels, features, out_channels):#三个参数，输入通道、块中间层通道数、输出通道\n",
    "        super().__init__()\n",
    "\n",
    "        self.up = nn.Sequential(\n",
    "            nn.Conv2d(in_channels, features, 3),\n",
    "            nn.ReLU(inplace=True),\n",
    "            nn.Conv2d(features, features, 3),\n",
    "            nn.ReLU(inplace=True),\n",
    "            nn.ConvTranspose2d(features, out_channels, 2, stride=2),#上采样\n",
    "            nn.ReLU(inplace=True),\n",
    "        )\n",
    "\n",
    "    def forward(self, x):\n",
    "        return self.up(x)"
   ]
  },
  {
   "cell_type": "markdown",
   "metadata": {},
   "source": [
    "搭建网络"
   ]
  },
  {
   "cell_type": "code",
   "execution_count": 13,
   "metadata": {},
   "outputs": [],
   "source": [
    "class UNet(nn.Module):\n",
    "\n",
    "    def __init__(self, num_classes):\n",
    "        super().__init__()\n",
    "\n",
    "        self.dec1 = residual_block(3, 64,False)\n",
    "        self.dec2 = residual_block(64, 128,False)\n",
    "        self.dec3 = residual_block(128, 256,False)\n",
    "        self.dec4 = residual_block(256, 512, False)\n",
    "        self.center = nn.Sequential(\n",
    "            nn.Conv2d(512, 1024, 3),\n",
    "            nn.ReLU(inplace=True),\n",
    "            nn.Conv2d(1024, 1024, 3),\n",
    "            nn.ReLU(inplace=True),\n",
    "            nn.Dropout(),\n",
    "            nn.ConvTranspose2d(1024, 512, 2, stride=2),\n",
    "            nn.ReLU(inplace=True),\n",
    "        )\n",
    "        self.enc4 = UNetEnc(1024, 512, 256)\n",
    "        self.enc3 = UNetEnc(512, 256, 128)\n",
    "        self.enc2 = UNetEnc(256, 128, 64)\n",
    "        self.enc1 = nn.Sequential(\n",
    "            nn.Conv2d(128, 64, 3),\n",
    "            nn.ReLU(inplace=True),\n",
    "            nn.Conv2d(64, 64, 3),\n",
    "            nn.ReLU(inplace=True),\n",
    "        )\n",
    "        self.final = nn.Conv2d(64, num_classes, 1)\n",
    "\n",
    "    def forward(self, x):\n",
    "        dec1 = self.dec1(x)\n",
    "        dec2 = self.dec2(dec1)\n",
    "        dec3 = self.dec3(dec2)\n",
    "        dec4 = self.dec4(dec3)\n",
    "        center = self.center(dec4)\n",
    "        enc4 = self.enc4(torch.cat([\n",
    "            center, F.upsample_bilinear(dec4, center.size()[2:])], 1))\n",
    "        #因为下采样块的输出已经max polling了，所以这里先对下采样块的输出双线性插值一下，再和反卷积后的特征图cat到一块\n",
    "        enc3 = self.enc3(torch.cat([\n",
    "            enc4, F.upsample_bilinear(dec3, enc4.size()[2:])], 1))\n",
    "        enc2 = self.enc2(torch.cat([\n",
    "            enc3, F.upsample_bilinear(dec2, enc3.size()[2:])], 1))\n",
    "        enc1 = self.enc1(torch.cat([\n",
    "            enc2, F.upsample_bilinear(dec1, enc2.size()[2:])], 1))\n",
    "\n",
    "        return F.upsample_bilinear(self.final(enc1), x.size()[2:])"
   ]
  },
  {
   "cell_type": "code",
   "execution_count": 14,
   "metadata": {},
   "outputs": [],
   "source": [
    "num_classes = len(classes)"
   ]
  },
  {
   "cell_type": "code",
   "execution_count": 15,
   "metadata": {},
   "outputs": [],
   "source": [
    "net = UNet(num_classes)\n",
    "net = net.cuda()"
   ]
  },
  {
   "cell_type": "markdown",
   "metadata": {},
   "source": [
    "多GPU处理(可选)"
   ]
  },
  {
   "cell_type": "code",
   "execution_count": 16,
   "metadata": {},
   "outputs": [],
   "source": [
    "net=nn.DataParallel(net,device_ids=[0,1])"
   ]
  },
  {
   "cell_type": "markdown",
   "metadata": {},
   "source": [
    "加载预训练权重"
   ]
  },
  {
   "cell_type": "code",
   "execution_count": 17,
   "metadata": {},
   "outputs": [],
   "source": [
    "net.load_state_dict(torch.load('save_u_res_params(0.86,augument).pth'))"
   ]
  },
  {
   "cell_type": "code",
   "execution_count": 18,
   "metadata": {},
   "outputs": [],
   "source": [
    "from mxtorch.vision.eval_tools import eval_semantic_segmentation"
   ]
  },
  {
   "cell_type": "code",
   "execution_count": 19,
   "metadata": {},
   "outputs": [
    {
     "name": "stderr",
     "output_type": "stream",
     "text": [
      "/home/ql/.conda/envs/QL/lib/python3.6/site-packages/torch/nn/modules/loss.py:198: UserWarning: NLLLoss2d has been deprecated. Please use NLLLoss instead as a drop-in replacement and see http://pytorch.org/docs/master/nn.html#torch.nn.NLLLoss for more details.\n",
      "  warnings.warn(\"NLLLoss2d has been deprecated. \"\n"
     ]
    }
   ],
   "source": [
    "# 定义 loss 和 optimizer\n",
    "from mxtorch.trainer import ScheduledOptim\n",
    "criterion = nn.NLLLoss2d()\n",
    "#basic_optim = torch.optim.SGD(net.parameters(), lr=1e-2, weight_decay=1e-4)\n",
    "basic_optim = torch.optim.Adam(net.parameters(), lr=1e-3)\n",
    "optimizer = ScheduledOptim(basic_optim)"
   ]
  },
  {
   "cell_type": "code",
   "execution_count": 20,
   "metadata": {},
   "outputs": [
    {
     "name": "stderr",
     "output_type": "stream",
     "text": [
      "/home/ql/.conda/envs/QL/lib/python3.6/site-packages/torch/nn/functional.py:1820: UserWarning: nn.functional.upsample_bilinear is deprecated. Use nn.functional.upsample instead.\n",
      "  warnings.warn(\"nn.functional.upsample_bilinear is deprecated. Use nn.functional.upsample instead.\")\n",
      "/home/ql/.conda/envs/QL/lib/python3.6/site-packages/ipykernel_launcher.py:22: UserWarning: invalid index of a 0-dim tensor. This will be an error in PyTorch 0.5. Use tensor.item() to convert a 0-dim tensor to a Python number\n",
      "/home/ql/.conda/envs/QL/lib/python3.6/site-packages/ipykernel_launcher.py:43: UserWarning: volatile was removed and now has no effect. Use `with torch.no_grad():` instead.\n",
      "/home/ql/.conda/envs/QL/lib/python3.6/site-packages/ipykernel_launcher.py:44: UserWarning: volatile was removed and now has no effect. Use `with torch.no_grad():` instead.\n",
      "/home/ql/.conda/envs/QL/lib/python3.6/site-packages/ipykernel_launcher.py:49: UserWarning: invalid index of a 0-dim tensor. This will be an error in PyTorch 0.5. Use tensor.item() to convert a 0-dim tensor to a Python number\n"
     ]
    },
    {
     "name": "stdout",
     "output_type": "stream",
     "text": [
      "Epoch: 0, Train Loss: 0.43120, Train Acc: 0.54823, Train Mean IU: 0.42537, Train Mean dice: 0.50619, Valid Loss: 0.14714, Valid Acc: 0.52186, Valid Mean IU: 0.35971,valid Mean dice: 0.42103 Time: 0:0:10 lr: 0.001\n",
      "Epoch: 1, Train Loss: 0.24102, Train Acc: 0.66003, Train Mean IU: 0.54575, Train Mean dice: 0.64533, Valid Loss: 0.11706, Valid Acc: 0.66061, Valid Mean IU: 0.52415,valid Mean dice: 0.62642 Time: 0:0:7 lr: 0.001\n",
      "Epoch: 2, Train Loss: 0.20689, Train Acc: 0.71015, Train Mean IU: 0.59661, Train Mean dice: 0.70861, Valid Loss: 0.08314, Valid Acc: 0.74997, Valid Mean IU: 0.64466,valid Mean dice: 0.74527 Time: 0:0:7 lr: 0.001\n",
      "Epoch: 3, Train Loss: 0.20436, Train Acc: 0.72123, Train Mean IU: 0.60558, Train Mean dice: 0.71733, Valid Loss: 0.07972, Valid Acc: 0.82252, Valid Mean IU: 0.73870,valid Mean dice: 0.82843 Time: 0:0:7 lr: 0.001\n",
      "Epoch: 4, Train Loss: 0.18910, Train Acc: 0.73279, Train Mean IU: 0.61939, Train Mean dice: 0.73046, Valid Loss: 0.07752, Valid Acc: 0.79962, Valid Mean IU: 0.70041,valid Mean dice: 0.79903 Time: 0:0:7 lr: 0.001\n",
      "Epoch: 5, Train Loss: 0.18496, Train Acc: 0.75060, Train Mean IU: 0.63500, Train Mean dice: 0.74656, Valid Loss: 0.07666, Valid Acc: 0.88575, Valid Mean IU: 0.79997,valid Mean dice: 0.88069 Time: 0:0:7 lr: 0.001\n",
      "Epoch: 6, Train Loss: 0.33229, Train Acc: 0.69743, Train Mean IU: 0.57910, Train Mean dice: 0.69499, Valid Loss: 0.08950, Valid Acc: 0.77291, Valid Mean IU: 0.66918,valid Mean dice: 0.76330 Time: 0:0:7 lr: 0.001\n",
      "Epoch: 7, Train Loss: 0.21746, Train Acc: 0.71978, Train Mean IU: 0.60316, Train Mean dice: 0.71880, Valid Loss: 0.08289, Valid Acc: 0.80398, Valid Mean IU: 0.70240,valid Mean dice: 0.80173 Time: 0:0:7 lr: 0.001\n",
      "Epoch: 8, Train Loss: 0.21098, Train Acc: 0.73679, Train Mean IU: 0.61775, Train Mean dice: 0.73489, Valid Loss: 0.07934, Valid Acc: 0.82697, Valid Mean IU: 0.73535,valid Mean dice: 0.82923 Time: 0:0:7 lr: 0.001\n",
      "Epoch: 9, Train Loss: 0.18952, Train Acc: 0.74747, Train Mean IU: 0.63231, Train Mean dice: 0.74616, Valid Loss: 0.07778, Valid Acc: 0.76123, Valid Mean IU: 0.66168,valid Mean dice: 0.74905 Time: 0:0:7 lr: 0.001\n",
      "Epoch: 10, Train Loss: 0.18134, Train Acc: 0.75372, Train Mean IU: 0.63943, Train Mean dice: 0.75136, Valid Loss: 0.08717, Valid Acc: 0.75545, Valid Mean IU: 0.64588,valid Mean dice: 0.74819 Time: 0:0:7 lr: 0.001\n",
      "Epoch: 11, Train Loss: 0.18387, Train Acc: 0.75088, Train Mean IU: 0.63664, Train Mean dice: 0.74800, Valid Loss: 0.07914, Valid Acc: 0.84562, Valid Mean IU: 0.76303,valid Mean dice: 0.85725 Time: 0:0:6 lr: 0.001\n",
      "Epoch: 12, Train Loss: 0.18637, Train Acc: 0.75466, Train Mean IU: 0.63471, Train Mean dice: 0.74682, Valid Loss: 0.07678, Valid Acc: 0.79737, Valid Mean IU: 0.72432,valid Mean dice: 0.81515 Time: 0:0:7 lr: 0.001\n",
      "Epoch: 13, Train Loss: 0.17503, Train Acc: 0.75986, Train Mean IU: 0.64715, Train Mean dice: 0.75746, Valid Loss: 0.07317, Valid Acc: 0.86711, Valid Mean IU: 0.79626,valid Mean dice: 0.87785 Time: 0:0:7 lr: 0.001\n",
      "Epoch: 14, Train Loss: 0.17202, Train Acc: 0.77688, Train Mean IU: 0.66491, Train Mean dice: 0.77517, Valid Loss: 0.07521, Valid Acc: 0.81260, Valid Mean IU: 0.72030,valid Mean dice: 0.81863 Time: 0:0:7 lr: 0.001\n",
      "Epoch: 15, Train Loss: 0.17995, Train Acc: 0.74834, Train Mean IU: 0.63641, Train Mean dice: 0.74663, Valid Loss: 0.07442, Valid Acc: 0.85851, Valid Mean IU: 0.77817,valid Mean dice: 0.86601 Time: 0:0:7 lr: 0.001\n",
      "Epoch: 16, Train Loss: 0.16568, Train Acc: 0.78681, Train Mean IU: 0.67629, Train Mean dice: 0.78449, Valid Loss: 0.07011, Valid Acc: 0.81056, Valid Mean IU: 0.72938,valid Mean dice: 0.82178 Time: 0:0:7 lr: 0.001\n",
      "Epoch: 17, Train Loss: 0.17292, Train Acc: 0.78139, Train Mean IU: 0.67285, Train Mean dice: 0.78104, Valid Loss: 0.07159, Valid Acc: 0.87109, Valid Mean IU: 0.79549,valid Mean dice: 0.87793 Time: 0:0:7 lr: 0.001\n",
      "Epoch: 18, Train Loss: 0.16311, Train Acc: 0.77922, Train Mean IU: 0.66867, Train Mean dice: 0.77723, Valid Loss: 0.06988, Valid Acc: 0.87564, Valid Mean IU: 0.80799,valid Mean dice: 0.88633 Time: 0:0:7 lr: 0.001\n",
      "Epoch: 19, Train Loss: 0.16681, Train Acc: 0.78861, Train Mean IU: 0.67914, Train Mean dice: 0.78654, Valid Loss: 0.07327, Valid Acc: 0.85507, Valid Mean IU: 0.78033,valid Mean dice: 0.86889 Time: 0:0:7 lr: 0.001\n",
      "Epoch: 20, Train Loss: 0.15909, Train Acc: 0.79451, Train Mean IU: 0.68864, Train Mean dice: 0.79493, Valid Loss: 0.06541, Valid Acc: 0.89385, Valid Mean IU: 0.81542,valid Mean dice: 0.89209 Time: 0:0:7 lr: 0.001\n",
      "Epoch: 21, Train Loss: 0.15993, Train Acc: 0.79780, Train Mean IU: 0.69017, Train Mean dice: 0.79641, Valid Loss: 0.07066, Valid Acc: 0.88756, Valid Mean IU: 0.82583,valid Mean dice: 0.89868 Time: 0:0:7 lr: 0.001\n",
      "Epoch: 22, Train Loss: 0.15111, Train Acc: 0.79893, Train Mean IU: 0.69308, Train Mean dice: 0.79866, Valid Loss: 0.06388, Valid Acc: 0.89189, Valid Mean IU: 0.82835,valid Mean dice: 0.89999 Time: 0:0:7 lr: 0.001\n",
      "Epoch: 23, Train Loss: 0.15459, Train Acc: 0.80194, Train Mean IU: 0.69512, Train Mean dice: 0.80148, Valid Loss: 0.06484, Valid Acc: 0.83063, Valid Mean IU: 0.75211,valid Mean dice: 0.84134 Time: 0:0:7 lr: 0.001\n",
      "Epoch: 24, Train Loss: 0.15665, Train Acc: 0.79528, Train Mean IU: 0.68919, Train Mean dice: 0.79467, Valid Loss: 0.06284, Valid Acc: 0.90403, Valid Mean IU: 0.83499,valid Mean dice: 0.90456 Time: 0:0:7 lr: 0.001\n",
      "Epoch: 25, Train Loss: 0.15122, Train Acc: 0.81212, Train Mean IU: 0.70559, Train Mean dice: 0.81048, Valid Loss: 0.07100, Valid Acc: 0.77797, Valid Mean IU: 0.68006,valid Mean dice: 0.77452 Time: 0:0:7 lr: 0.001\n",
      "Epoch: 26, Train Loss: 0.15785, Train Acc: 0.80387, Train Mean IU: 0.69848, Train Mean dice: 0.80394, Valid Loss: 0.06557, Valid Acc: 0.87359, Valid Mean IU: 0.78988,valid Mean dice: 0.87516 Time: 0:0:7 lr: 0.001\n",
      "Epoch: 27, Train Loss: 0.15233, Train Acc: 0.81735, Train Mean IU: 0.71452, Train Mean dice: 0.81731, Valid Loss: 0.06355, Valid Acc: 0.89050, Valid Mean IU: 0.82859,valid Mean dice: 0.90022 Time: 0:0:7 lr: 0.001\n",
      "Epoch: 28, Train Loss: 0.14611, Train Acc: 0.81365, Train Mean IU: 0.70649, Train Mean dice: 0.81116, Valid Loss: 0.06281, Valid Acc: 0.87547, Valid Mean IU: 0.80728,valid Mean dice: 0.88604 Time: 0:0:7 lr: 0.001\n",
      "Epoch: 29, Train Loss: 0.14521, Train Acc: 0.81471, Train Mean IU: 0.71156, Train Mean dice: 0.81437, Valid Loss: 0.05794, Valid Acc: 0.89166, Valid Mean IU: 0.82322,valid Mean dice: 0.89629 Time: 0:0:7 lr: 0.001\n",
      "Epoch: 30, Train Loss: 0.14130, Train Acc: 0.82760, Train Mean IU: 0.72449, Train Mean dice: 0.82558, Valid Loss: 0.05772, Valid Acc: 0.90040, Valid Mean IU: 0.84316,valid Mean dice: 0.90961 Time: 0:0:7 lr: 0.001\n",
      "Epoch: 31, Train Loss: 0.14124, Train Acc: 0.82238, Train Mean IU: 0.71931, Train Mean dice: 0.82066, Valid Loss: 0.05846, Valid Acc: 0.87268, Valid Mean IU: 0.80432,valid Mean dice: 0.88267 Time: 0:0:7 lr: 0.001\n",
      "Epoch: 32, Train Loss: 0.14069, Train Acc: 0.81996, Train Mean IU: 0.71667, Train Mean dice: 0.81893, Valid Loss: 0.05634, Valid Acc: 0.91122, Valid Mean IU: 0.84878,valid Mean dice: 0.91307 Time: 0:0:7 lr: 0.001\n",
      "Epoch: 33, Train Loss: 0.15529, Train Acc: 0.80082, Train Mean IU: 0.69180, Train Mean dice: 0.79724, Valid Loss: 0.46727, Valid Acc: 0.75838, Valid Mean IU: 0.63170,valid Mean dice: 0.72161 Time: 0:0:7 lr: 0.001\n",
      "Epoch: 34, Train Loss: 0.16744, Train Acc: 0.77567, Train Mean IU: 0.66446, Train Mean dice: 0.76980, Valid Loss: 0.06656, Valid Acc: 0.87286, Valid Mean IU: 0.78551,valid Mean dice: 0.87271 Time: 0:0:7 lr: 0.001\n",
      "Epoch: 35, Train Loss: 0.15401, Train Acc: 0.80569, Train Mean IU: 0.69821, Train Mean dice: 0.80372, Valid Loss: 0.06412, Valid Acc: 0.90271, Valid Mean IU: 0.83478,valid Mean dice: 0.90471 Time: 0:0:7 lr: 0.001\n",
      "Epoch: 36, Train Loss: 0.14506, Train Acc: 0.81495, Train Mean IU: 0.71154, Train Mean dice: 0.81447, Valid Loss: 0.05802, Valid Acc: 0.91155, Valid Mean IU: 0.84361,valid Mean dice: 0.90973 Time: 0:0:7 lr: 0.001\n",
      "Epoch: 37, Train Loss: 0.14498, Train Acc: 0.82111, Train Mean IU: 0.71608, Train Mean dice: 0.81874, Valid Loss: 0.06211, Valid Acc: 0.88670, Valid Mean IU: 0.81569,valid Mean dice: 0.89182 Time: 0:0:7 lr: 0.001\n",
      "Epoch: 38, Train Loss: 0.13626, Train Acc: 0.82292, Train Mean IU: 0.72049, Train Mean dice: 0.82174, Valid Loss: 0.05789, Valid Acc: 0.90151, Valid Mean IU: 0.84268,valid Mean dice: 0.90871 Time: 0:0:7 lr: 0.001\n",
      "Epoch: 39, Train Loss: 0.13925, Train Acc: 0.82650, Train Mean IU: 0.72463, Train Mean dice: 0.82522, Valid Loss: 0.06125, Valid Acc: 0.89034, Valid Mean IU: 0.82649,valid Mean dice: 0.89910 Time: 0:0:7 lr: 0.001\n",
      "Epoch: 40, Train Loss: 0.13453, Train Acc: 0.83068, Train Mean IU: 0.72896, Train Mean dice: 0.82895, Valid Loss: 0.05563, Valid Acc: 0.88982, Valid Mean IU: 0.83434,valid Mean dice: 0.90284 Time: 0:0:7 lr: 0.001\n",
      "Epoch: 41, Train Loss: 0.13167, Train Acc: 0.83125, Train Mean IU: 0.72907, Train Mean dice: 0.82839, Valid Loss: 0.05631, Valid Acc: 0.90688, Valid Mean IU: 0.84369,valid Mean dice: 0.90960 Time: 0:0:7 lr: 0.001\n",
      "Epoch: 42, Train Loss: 0.14378, Train Acc: 0.81889, Train Mean IU: 0.71264, Train Mean dice: 0.81606, Valid Loss: 0.05689, Valid Acc: 0.89198, Valid Mean IU: 0.82770,valid Mean dice: 0.89814 Time: 0:0:7 lr: 0.001\n",
      "Epoch: 43, Train Loss: 0.13262, Train Acc: 0.83538, Train Mean IU: 0.73492, Train Mean dice: 0.83336, Valid Loss: 0.05386, Valid Acc: 0.88982, Valid Mean IU: 0.83758,valid Mean dice: 0.90487 Time: 0:0:7 lr: 0.001\n",
      "Epoch: 44, Train Loss: 0.13290, Train Acc: 0.83815, Train Mean IU: 0.73839, Train Mean dice: 0.83615, Valid Loss: 0.05455, Valid Acc: 0.89993, Valid Mean IU: 0.84674,valid Mean dice: 0.91109 Time: 0:0:7 lr: 0.001\n",
      "Epoch: 45, Train Loss: 0.13132, Train Acc: 0.83636, Train Mean IU: 0.73640, Train Mean dice: 0.83443, Valid Loss: 0.05567, Valid Acc: 0.90892, Valid Mean IU: 0.84840,valid Mean dice: 0.91275 Time: 0:0:7 lr: 0.001\n",
      "Epoch: 46, Train Loss: 0.13046, Train Acc: 0.83685, Train Mean IU: 0.73547, Train Mean dice: 0.83402, Valid Loss: 0.05186, Valid Acc: 0.89607, Valid Mean IU: 0.84308,valid Mean dice: 0.90827 Time: 0:0:7 lr: 0.001\n",
      "Epoch: 47, Train Loss: 0.12947, Train Acc: 0.84240, Train Mean IU: 0.74312, Train Mean dice: 0.83931, Valid Loss: 0.05103, Valid Acc: 0.89798, Valid Mean IU: 0.84382,valid Mean dice: 0.90875 Time: 0:0:7 lr: 0.001\n",
      "Epoch: 48, Train Loss: 0.12616, Train Acc: 0.83524, Train Mean IU: 0.73496, Train Mean dice: 0.83353, Valid Loss: 0.05577, Valid Acc: 0.90056, Valid Mean IU: 0.84601,valid Mean dice: 0.91097 Time: 0:0:7 lr: 0.001\n",
      "Epoch: 49, Train Loss: 0.13038, Train Acc: 0.83883, Train Mean IU: 0.73998, Train Mean dice: 0.83708, Valid Loss: 0.05193, Valid Acc: 0.89207, Valid Mean IU: 0.82368,valid Mean dice: 0.89605 Time: 0:0:7 lr: 0.001\n",
      "Epoch: 50, Train Loss: 0.12783, Train Acc: 0.84578, Train Mean IU: 0.74850, Train Mean dice: 0.84389, Valid Loss: 0.04907, Valid Acc: 0.90242, Valid Mean IU: 0.84878,valid Mean dice: 0.91228 Time: 0:0:7 lr: 0.0001\n",
      "Epoch: 51, Train Loss: 0.12092, Train Acc: 0.85175, Train Mean IU: 0.75544, Train Mean dice: 0.84905, Valid Loss: 0.04976, Valid Acc: 0.90817, Valid Mean IU: 0.85456,valid Mean dice: 0.91614 Time: 0:0:7 lr: 0.0001\n",
      "Epoch: 52, Train Loss: 0.12377, Train Acc: 0.85071, Train Mean IU: 0.75519, Train Mean dice: 0.84882, Valid Loss: 0.05061, Valid Acc: 0.90430, Valid Mean IU: 0.85258,valid Mean dice: 0.91493 Time: 0:0:7 lr: 0.0001\n",
      "Epoch: 53, Train Loss: 0.12228, Train Acc: 0.85298, Train Mean IU: 0.75684, Train Mean dice: 0.85052, Valid Loss: 0.04897, Valid Acc: 0.90175, Valid Mean IU: 0.84970,valid Mean dice: 0.91269 Time: 0:0:7 lr: 0.0001\n",
      "Epoch: 54, Train Loss: 0.11918, Train Acc: 0.85397, Train Mean IU: 0.75841, Train Mean dice: 0.85160, Valid Loss: 0.04885, Valid Acc: 0.90540, Valid Mean IU: 0.85326,valid Mean dice: 0.91514 Time: 0:0:7 lr: 0.0001\n",
      "Epoch: 55, Train Loss: 0.11456, Train Acc: 0.85118, Train Mean IU: 0.75631, Train Mean dice: 0.84949, Valid Loss: 0.05036, Valid Acc: 0.90375, Valid Mean IU: 0.85161,valid Mean dice: 0.91416 Time: 0:0:7 lr: 0.0001\n",
      "Epoch: 56, Train Loss: 0.11972, Train Acc: 0.85267, Train Mean IU: 0.75773, Train Mean dice: 0.85081, Valid Loss: 0.04933, Valid Acc: 0.90666, Valid Mean IU: 0.85437,valid Mean dice: 0.91603 Time: 0:0:7 lr: 0.0001\n",
      "Epoch: 57, Train Loss: 0.11858, Train Acc: 0.85099, Train Mean IU: 0.75552, Train Mean dice: 0.84932, Valid Loss: 0.04902, Valid Acc: 0.89940, Valid Mean IU: 0.84841,valid Mean dice: 0.91182 Time: 0:0:7 lr: 0.0001\n",
      "Epoch: 58, Train Loss: 0.11874, Train Acc: 0.85727, Train Mean IU: 0.76294, Train Mean dice: 0.85482, Valid Loss: 0.04920, Valid Acc: 0.90743, Valid Mean IU: 0.85536,valid Mean dice: 0.91647 Time: 0:0:7 lr: 0.0001\n",
      "Epoch: 59, Train Loss: 0.11953, Train Acc: 0.85512, Train Mean IU: 0.75916, Train Mean dice: 0.85221, Valid Loss: 0.04771, Valid Acc: 0.90056, Valid Mean IU: 0.84901,valid Mean dice: 0.91219 Time: 0:0:7 lr: 0.0001\n",
      "Epoch: 60, Train Loss: 0.11880, Train Acc: 0.85051, Train Mean IU: 0.75616, Train Mean dice: 0.84947, Valid Loss: 0.04860, Valid Acc: 0.89740, Valid Mean IU: 0.84665,valid Mean dice: 0.91052 Time: 0:0:7 lr: 0.0001\n",
      "Epoch: 61, Train Loss: 0.11930, Train Acc: 0.85729, Train Mean IU: 0.76188, Train Mean dice: 0.85402, Valid Loss: 0.04924, Valid Acc: 0.89730, Valid Mean IU: 0.84718,valid Mean dice: 0.91096 Time: 0:0:7 lr: 0.0001\n",
      "Epoch: 62, Train Loss: 0.11900, Train Acc: 0.85539, Train Mean IU: 0.76219, Train Mean dice: 0.85374, Valid Loss: 0.04950, Valid Acc: 0.89474, Valid Mean IU: 0.84429,valid Mean dice: 0.90901 Time: 0:0:7 lr: 0.0001\n",
      "Epoch: 63, Train Loss: 0.11567, Train Acc: 0.85656, Train Mean IU: 0.76298, Train Mean dice: 0.85474, Valid Loss: 0.04825, Valid Acc: 0.90767, Valid Mean IU: 0.85589,valid Mean dice: 0.91677 Time: 0:0:7 lr: 0.0001\n",
      "Epoch: 64, Train Loss: 0.11900, Train Acc: 0.85605, Train Mean IU: 0.76167, Train Mean dice: 0.85376, Valid Loss: 0.04760, Valid Acc: 0.89851, Valid Mean IU: 0.84765,valid Mean dice: 0.91114 Time: 0:0:7 lr: 0.0001\n",
      "Epoch: 65, Train Loss: 0.11921, Train Acc: 0.85388, Train Mean IU: 0.75865, Train Mean dice: 0.85140, Valid Loss: 0.04817, Valid Acc: 0.89129, Valid Mean IU: 0.84196,valid Mean dice: 0.90709 Time: 0:0:7 lr: 0.0001\n",
      "Epoch: 66, Train Loss: 0.11291, Train Acc: 0.85331, Train Mean IU: 0.75908, Train Mean dice: 0.85174, Valid Loss: 0.04801, Valid Acc: 0.89439, Valid Mean IU: 0.84224,valid Mean dice: 0.90740 Time: 0:0:7 lr: 0.0001\n",
      "Epoch: 67, Train Loss: 0.11491, Train Acc: 0.85726, Train Mean IU: 0.76320, Train Mean dice: 0.85466, Valid Loss: 0.04797, Valid Acc: 0.89858, Valid Mean IU: 0.84808,valid Mean dice: 0.91159 Time: 0:0:7 lr: 0.0001\n",
      "Epoch: 68, Train Loss: 0.11568, Train Acc: 0.85569, Train Mean IU: 0.76283, Train Mean dice: 0.85458, Valid Loss: 0.04825, Valid Acc: 0.90107, Valid Mean IU: 0.85086,valid Mean dice: 0.91337 Time: 0:0:7 lr: 0.0001\n",
      "Epoch: 69, Train Loss: 0.11497, Train Acc: 0.85398, Train Mean IU: 0.75992, Train Mean dice: 0.85206, Valid Loss: 0.04675, Valid Acc: 0.90155, Valid Mean IU: 0.85111,valid Mean dice: 0.91349 Time: 0:0:7 lr: 0.0001\n",
      "Epoch: 70, Train Loss: 0.11680, Train Acc: 0.85439, Train Mean IU: 0.76083, Train Mean dice: 0.85306, Valid Loss: 0.04838, Valid Acc: 0.89924, Valid Mean IU: 0.84910,valid Mean dice: 0.91215 Time: 0:0:7 lr: 0.0001\n",
      "Epoch: 71, Train Loss: 0.11372, Train Acc: 0.86060, Train Mean IU: 0.76789, Train Mean dice: 0.85842, Valid Loss: 0.04738, Valid Acc: 0.90071, Valid Mean IU: 0.85090,valid Mean dice: 0.91332 Time: 0:0:7 lr: 0.0001\n",
      "Epoch: 72, Train Loss: 0.11440, Train Acc: 0.85797, Train Mean IU: 0.76465, Train Mean dice: 0.85592, Valid Loss: 0.04876, Valid Acc: 0.89062, Valid Mean IU: 0.84125,valid Mean dice: 0.90638 Time: 0:0:7 lr: 0.0001\n",
      "Epoch: 73, Train Loss: 0.10973, Train Acc: 0.85708, Train Mean IU: 0.76487, Train Mean dice: 0.85570, Valid Loss: 0.04870, Valid Acc: 0.89888, Valid Mean IU: 0.84943,valid Mean dice: 0.91233 Time: 0:0:7 lr: 0.0001\n",
      "Epoch: 74, Train Loss: 0.11478, Train Acc: 0.85771, Train Mean IU: 0.76395, Train Mean dice: 0.85517, Valid Loss: 0.04870, Valid Acc: 0.90597, Valid Mean IU: 0.85410,valid Mean dice: 0.91578 Time: 0:0:7 lr: 0.0001\n",
      "Epoch: 75, Train Loss: 0.11718, Train Acc: 0.85820, Train Mean IU: 0.76484, Train Mean dice: 0.85591, Valid Loss: 0.04837, Valid Acc: 0.89958, Valid Mean IU: 0.84969,valid Mean dice: 0.91287 Time: 0:0:7 lr: 0.0001\n",
      "Epoch: 76, Train Loss: 0.11814, Train Acc: 0.86044, Train Mean IU: 0.76692, Train Mean dice: 0.85788, Valid Loss: 0.04745, Valid Acc: 0.89644, Valid Mean IU: 0.84742,valid Mean dice: 0.91087 Time: 0:0:7 lr: 0.0001\n",
      "Epoch: 77, Train Loss: 0.11403, Train Acc: 0.85844, Train Mean IU: 0.76547, Train Mean dice: 0.85637, Valid Loss: 0.04815, Valid Acc: 0.90159, Valid Mean IU: 0.85242,valid Mean dice: 0.91450 Time: 0:0:7 lr: 0.0001\n",
      "Epoch: 78, Train Loss: 0.11960, Train Acc: 0.85741, Train Mean IU: 0.76493, Train Mean dice: 0.85609, Valid Loss: 0.04979, Valid Acc: 0.89498, Valid Mean IU: 0.84604,valid Mean dice: 0.90983 Time: 0:0:7 lr: 0.0001\n",
      "Epoch: 79, Train Loss: 0.11537, Train Acc: 0.85731, Train Mean IU: 0.76358, Train Mean dice: 0.85516, Valid Loss: 0.04933, Valid Acc: 0.90348, Valid Mean IU: 0.85168,valid Mean dice: 0.91423 Time: 0:0:7 lr: 0.0001\n",
      "Epoch: 80, Train Loss: 0.11414, Train Acc: 0.85892, Train Mean IU: 0.76522, Train Mean dice: 0.85651, Valid Loss: 0.04816, Valid Acc: 0.90454, Valid Mean IU: 0.85367,valid Mean dice: 0.91528 Time: 0:0:7 lr: 0.0001\n",
      "Epoch: 81, Train Loss: 0.11446, Train Acc: 0.86031, Train Mean IU: 0.76699, Train Mean dice: 0.85783, Valid Loss: 0.04539, Valid Acc: 0.89228, Valid Mean IU: 0.84208,valid Mean dice: 0.90666 Time: 0:0:7 lr: 0.0001\n",
      "Epoch: 82, Train Loss: 0.11539, Train Acc: 0.85764, Train Mean IU: 0.76463, Train Mean dice: 0.85605, Valid Loss: 0.04780, Valid Acc: 0.89537, Valid Mean IU: 0.84792,valid Mean dice: 0.91143 Time: 0:0:7 lr: 0.0001\n",
      "Epoch: 83, Train Loss: 0.11670, Train Acc: 0.85990, Train Mean IU: 0.76696, Train Mean dice: 0.85765, Valid Loss: 0.04606, Valid Acc: 0.90637, Valid Mean IU: 0.85685,valid Mean dice: 0.91741 Time: 0:0:7 lr: 0.0001\n",
      "Epoch: 84, Train Loss: 0.11321, Train Acc: 0.85954, Train Mean IU: 0.76704, Train Mean dice: 0.85781, Valid Loss: 0.04781, Valid Acc: 0.90535, Valid Mean IU: 0.85669,valid Mean dice: 0.91728 Time: 0:0:7 lr: 0.0001\n",
      "Epoch: 85, Train Loss: 0.11521, Train Acc: 0.85904, Train Mean IU: 0.76515, Train Mean dice: 0.85643, Valid Loss: 0.04723, Valid Acc: 0.91266, Valid Mean IU: 0.86039,valid Mean dice: 0.92000 Time: 0:0:7 lr: 0.0001\n",
      "Epoch: 86, Train Loss: 0.11678, Train Acc: 0.86356, Train Mean IU: 0.77090, Train Mean dice: 0.86068, Valid Loss: 0.04679, Valid Acc: 0.90661, Valid Mean IU: 0.85798,valid Mean dice: 0.91821 Time: 0:0:7 lr: 0.0001\n",
      "Epoch: 87, Train Loss: 0.11460, Train Acc: 0.85690, Train Mean IU: 0.76412, Train Mean dice: 0.85529, Valid Loss: 0.04828, Valid Acc: 0.91194, Valid Mean IU: 0.86087,valid Mean dice: 0.92033 Time: 0:0:7 lr: 0.0001\n",
      "Epoch: 88, Train Loss: 0.11616, Train Acc: 0.85948, Train Mean IU: 0.76507, Train Mean dice: 0.85640, Valid Loss: 0.04643, Valid Acc: 0.89832, Valid Mean IU: 0.85035,valid Mean dice: 0.91294 Time: 0:0:7 lr: 0.0001\n",
      "Epoch: 89, Train Loss: 0.11366, Train Acc: 0.85859, Train Mean IU: 0.76660, Train Mean dice: 0.85715, Valid Loss: 0.04848, Valid Acc: 0.90255, Valid Mean IU: 0.85379,valid Mean dice: 0.91536 Time: 0:0:7 lr: 0.0001\n",
      "Epoch: 90, Train Loss: 0.11244, Train Acc: 0.85979, Train Mean IU: 0.76613, Train Mean dice: 0.85724, Valid Loss: 0.04771, Valid Acc: 0.90859, Valid Mean IU: 0.85864,valid Mean dice: 0.91869 Time: 0:0:7 lr: 0.0001\n",
      "Epoch: 91, Train Loss: 0.11617, Train Acc: 0.86040, Train Mean IU: 0.76844, Train Mean dice: 0.85856, Valid Loss: 0.04959, Valid Acc: 0.90647, Valid Mean IU: 0.85717,valid Mean dice: 0.91779 Time: 0:0:7 lr: 0.0001\n",
      "Epoch: 92, Train Loss: 0.10816, Train Acc: 0.86246, Train Mean IU: 0.76983, Train Mean dice: 0.85974, Valid Loss: 0.04901, Valid Acc: 0.89904, Valid Mean IU: 0.85049,valid Mean dice: 0.91332 Time: 0:0:7 lr: 0.0001\n",
      "Epoch: 93, Train Loss: 0.11145, Train Acc: 0.86100, Train Mean IU: 0.76795, Train Mean dice: 0.85828, Valid Loss: 0.04808, Valid Acc: 0.90041, Valid Mean IU: 0.85244,valid Mean dice: 0.91481 Time: 0:0:7 lr: 0.0001\n",
      "Epoch: 94, Train Loss: 0.11218, Train Acc: 0.86094, Train Mean IU: 0.76957, Train Mean dice: 0.85983, Valid Loss: 0.04623, Valid Acc: 0.89786, Valid Mean IU: 0.84926,valid Mean dice: 0.91225 Time: 0:0:7 lr: 0.0001\n",
      "Epoch: 95, Train Loss: 0.11017, Train Acc: 0.86088, Train Mean IU: 0.76742, Train Mean dice: 0.85806, Valid Loss: 0.04827, Valid Acc: 0.90200, Valid Mean IU: 0.85210,valid Mean dice: 0.91423 Time: 0:0:7 lr: 0.0001\n",
      "Epoch: 96, Train Loss: 0.10898, Train Acc: 0.86096, Train Mean IU: 0.76866, Train Mean dice: 0.85863, Valid Loss: 0.04760, Valid Acc: 0.89682, Valid Mean IU: 0.84787,valid Mean dice: 0.91098 Time: 0:0:7 lr: 0.0001\n",
      "Epoch: 97, Train Loss: 0.11235, Train Acc: 0.86238, Train Mean IU: 0.77046, Train Mean dice: 0.86044, Valid Loss: 0.04788, Valid Acc: 0.90461, Valid Mean IU: 0.85511,valid Mean dice: 0.91658 Time: 0:0:7 lr: 0.0001\n",
      "Epoch: 98, Train Loss: 0.11310, Train Acc: 0.86473, Train Mean IU: 0.77275, Train Mean dice: 0.86192, Valid Loss: 0.04487, Valid Acc: 0.90689, Valid Mean IU: 0.85843,valid Mean dice: 0.91859 Time: 0:0:7 lr: 0.0001\n",
      "Epoch: 99, Train Loss: 0.11167, Train Acc: 0.85917, Train Mean IU: 0.76723, Train Mean dice: 0.85789, Valid Loss: 0.04982, Valid Acc: 0.89899, Valid Mean IU: 0.84830,valid Mean dice: 0.91189 Time: 0:0:7 lr: 0.0001\n"
     ]
    }
   ],
   "source": [
    "for e in range(100):\n",
    "    if e > 0 and e % 50 == 0:\n",
    "        optimizer.set_learning_rate(optimizer.learning_rate * 0.1)\n",
    "    train_loss = 0\n",
    "    train_acc = 0\n",
    "    train_mean_iu = 0\n",
    "    train_mean_dice = 0\n",
    "    \n",
    "    prev_time = datetime.now()\n",
    "    net = net.train()\n",
    "    for data in train_data:\n",
    "        im = Variable(data[0].cuda())\n",
    "        labels = Variable(data[1].cuda())\n",
    "        # forward\n",
    "        out = net(im)\n",
    "        out = F.log_softmax(out, dim=1) # (b, n, h, w)\n",
    "        loss = criterion(out, labels)\n",
    "        # backward\n",
    "        optimizer.zero_grad()\n",
    "        loss.backward()\n",
    "        optimizer.step()\n",
    "        train_loss += loss.data[0]\n",
    "        \n",
    "        pred_labels = out.max(dim=1)[1].data.cpu().numpy()\n",
    "        pred_labels = [i for i in pred_labels]\n",
    "\n",
    "        true_labels = labels.data.cpu().numpy()\n",
    "        true_labels = [i for i in true_labels]\n",
    "\n",
    "        eval_metrics = eval_semantic_segmentation(pred_labels, true_labels)\n",
    "        \n",
    "        train_acc += eval_metrics['mean_class_accuracy']\n",
    "        train_mean_iu += eval_metrics['miou']\n",
    "        train_mean_dice += eval_metrics['mdice']\n",
    "        \n",
    "    net = net.eval()\n",
    "    eval_loss = 0\n",
    "    eval_acc = 0\n",
    "    eval_mean_iu = 0\n",
    "    eval_mean_dice = 0\n",
    "    \n",
    "    for data in valid_data:\n",
    "        im = Variable(data[0].cuda(), volatile=True)\n",
    "        labels = Variable(data[1].cuda(), volatile=True)\n",
    "        # forward\n",
    "        out = net(im)\n",
    "        out = F.log_softmax(out, dim=1)\n",
    "        loss = criterion(out, labels)\n",
    "        eval_loss += loss.data[0]\n",
    "        \n",
    "        pred_labels = out.max(dim=1)[1].data.cpu().numpy()\n",
    "        pred_labels = [i for i in pred_labels]\n",
    "\n",
    "        true_labels = labels.data.cpu().numpy()\n",
    "        true_labels = [i for i in true_labels]\n",
    "\n",
    "        eval_metrics = eval_semantic_segmentation(pred_labels, true_labels)\n",
    "\n",
    "    eval_acc += eval_metrics['mean_class_accuracy']\n",
    "    eval_mean_iu += eval_metrics['miou']\n",
    "    eval_mean_dice += eval_metrics['mdice']\n",
    "    \n",
    "    cur_time = datetime.now()\n",
    "    h, remainder = divmod((cur_time - prev_time).seconds, 3600)\n",
    "    m, s = divmod(remainder, 60)\n",
    "    epoch_str = ('Epoch: {}, Train Loss: {:.5f}, Train Acc: {:.5f}, Train Mean IU: {:.5f}, Train Mean dice: {:.5f}, \\\n",
    "Valid Loss: {:.5f}, Valid Acc: {:.5f}, Valid Mean IU: {:.5f},valid Mean dice: {:.5f} '.format(\n",
    "        e, train_loss / len(train_data), train_acc / len(train_data), train_mean_iu / len(train_data), train_mean_dice / len(train_data),\n",
    "        eval_loss / len(valid_data), eval_acc, eval_mean_iu,eval_mean_dice))\n",
    "    time_str = 'Time: {:.0f}:{:.0f}:{:.0f}'.format(h, m, s)\n",
    "    print(epoch_str + time_str + ' lr: {}'.format(optimizer.learning_rate))"
   ]
  },
  {
   "cell_type": "code",
   "execution_count": 26,
   "metadata": {},
   "outputs": [],
   "source": [
    "torch.save(net.state_dict(), 'save_u_res_params(0.86,augument).pth')"
   ]
  },
  {
   "cell_type": "code",
   "execution_count": 19,
   "metadata": {},
   "outputs": [],
   "source": [
    "# net.load_state_dict(torch.load('./fcn.pth'))\n",
    "net = net.eval()"
   ]
  },
  {
   "cell_type": "code",
   "execution_count": 20,
   "metadata": {},
   "outputs": [
    {
     "data": {
      "text/plain": [
       "(4, 4)"
      ]
     },
     "execution_count": 20,
     "metadata": {},
     "output_type": "execute_result"
    }
   ],
   "source": [
    "classes = ['background','CSF','GM','WM']\n",
    "\n",
    "# RGB color for each class\n",
    "colormap_new = [[10,10,10],[240,255,240],[16,78,139], [205,133,63]]\n",
    "\n",
    "len(classes), len(colormap)"
   ]
  },
  {
   "cell_type": "code",
   "execution_count": 21,
   "metadata": {},
   "outputs": [],
   "source": [
    "# 定义预测函数\n",
    "cm = np.array(colormap_new).astype('uint8')\n",
    "\n",
    "def predict(img, label): # 预测结果\n",
    "    img = Variable(img.unsqueeze(0)).cuda()\n",
    "    out = net(img)\n",
    "    pred = out.max(1)[1].squeeze().cpu().data.numpy()\n",
    "    pred = cm[pred]\n",
    "    return pred, cm[label.numpy()]"
   ]
  },
  {
   "cell_type": "code",
   "execution_count": 34,
   "metadata": {},
   "outputs": [
    {
     "name": "stderr",
     "output_type": "stream",
     "text": [
      "/home/ql/.conda/envs/QL/lib/python3.6/site-packages/torch/nn/functional.py:1820: UserWarning: nn.functional.upsample_bilinear is deprecated. Use nn.functional.upsample instead.\n",
      "  warnings.warn(\"nn.functional.upsample_bilinear is deprecated. Use nn.functional.upsample instead.\")\n"
     ]
    },
    {
     "data": {
      "image/png": "[encoded data removed]",
      "text/plain": [
       "<Figure size 1440x1440 with 15 Axes>"
      ]
     },
     "metadata": {},
     "output_type": "display_data"
    }
   ],
   "source": [
    "_, figs = plt.subplots(5, 3, figsize=(20, 20))\n",
    "N = 12\n",
    "\n",
    "for i in range(5):\n",
    "    test_data, test_label = mr_test[i+N]\n",
    "    pred, label = predict(test_data, test_label)\n",
    "    figs[i, 0].imshow(Image.open(mr_test.data_list[i+N]))\n",
    "    figs[i, 0].axes.get_xaxis().set_visible(False)\n",
    "    figs[i, 0].axes.get_yaxis().set_visible(False)\n",
    "    figs[i, 1].imshow(label)\n",
    "    figs[i, 1].axes.get_xaxis().set_visible(False)\n",
    "    figs[i, 1].axes.get_yaxis().set_visible(False)\n",
    "    figs[i, 2].imshow(pred)\n",
    "    figs[i, 2].axes.get_xaxis().set_visible(False)\n",
    "    figs[i, 2].axes.get_yaxis().set_visible(False)\n",
    "    new_im = Image.fromarray(pred.astype(np.uint8))\n",
    "    new_im.save('./pred'+np.str(i)+'.bmp')\n",
    "    label_im = Image.fromarray(label.astype(np.uint8))\n",
    "    label_im.save('./label'+np.str(i)+'.bmp')\n",
    "    img = Image.open(mr_test.data_list[i+N])\n",
    "    img.save('./img'+np.str(i)+'.bmp')"
   ]
  },
  {
   "cell_type": "code",
   "execution_count": null,
   "metadata": {},
   "outputs": [],
   "source": []
  }
 ],
 "metadata": {
  "kernelspec": {
   "display_name": "QL",
   "language": "python",
   "name": "ql"
  },
  "language_info": {
   "codemirror_mode": {
    "name": "ipython",
    "version": 3
   },
   "file_extension": ".py",
   "mimetype": "text/x-python",
   "name": "python",
   "nbconvert_exporter": "python",
   "pygments_lexer": "ipython3",
   "version": "3.6.5"
  }
 },
 "nbformat": 4,
 "nbformat_minor": 2
}
